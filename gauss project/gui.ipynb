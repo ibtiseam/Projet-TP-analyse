{
 "cells": [
  {
   "cell_type": "markdown",
   "metadata": {},
   "source": [
    "### Réalisé par :\n",
    "* **<strong>Ibtissem BOUZIDI 2DNI1</strong> \n",
    "* <strong>Amel ELAGES 2DNI1</strong>**\n",
    "# <center style=\"color:#021E55\" >--  Projet Analyse Numérique --</center>\n",
    " ### <center style=\"color:#021E00\" >--- Résolution des systemes linéaires ---</center>"
   ]
  },
  {
   "cell_type": "markdown",
   "metadata": {},
   "source": [
    "* **<span style=\"color:#0000C0\">Partie Théorique  : </span>**\n",
    "><span style=\"color:orange\"><strong>Méthode de Gauss :</strong></span>\n",
    "<br>​​​La méthode de réduction, parfois nommée méthode d'élimination, on l’appelle aussi méthode du pivot ou méthode de\n",
    "triangularisation par allusion au triangle de zéro qu’on a construit. C'est une méthode qui permet de résoudre algébriquement un système d'équations où les deux équations sont sous la forme ax + by = c."
   ]
  },
  {
   "cell_type": "markdown",
   "metadata": {},
   "source": [
    "><span style=\"color:orange\"><strong>Méthode de Gauss-Jordan :</strong></span>\n",
    "<br>​​​C'est un algorithme pour déterminer les solutions d'un système d'équations linéaires, pour déterminer le rang d'une matrice ou pour calculer l'inverse d'une matrice (carrée) inversible. Lorsqu'on applique l'élimination de Gauss à une matrice, on obtient sa forme échelonnée réduite.\n",
    "<div class=\"alert alert-block alert-warning\">** <span style=\"color:#800000\">L'algorithme de Gauss-Jordan produit la matrice échelonnée réduite d'une matrice à l'aide d'opérations élémentaires sur les lignes. Trois types d'opérations élémentaires sont utilisées :\n",
    "\n",
    "* Échange de deux lignes ;\n",
    "* Multiplication d'une ligne par un scalaire non nul ;\n",
    "* Ajout du multiple d'une ligne à une autre ligne.</span>** </div>\n"
   ]
  },
  {
   "cell_type": "markdown",
   "metadata": {},
   "source": [
    "\n",
    "* **<span style=\"color:#0000C0\">Présentation du Projet  : </span>**\n",
    "<p>Cette interface grahique permet la résolution des systemes linéaires par deux méthodes :\n",
    "<ol><li> Méthode de Gauss-Jordan</li>\n",
    "    <li> Méthode de Gauss</li>\n",
    "    </ol></p>"
   ]
  },
  {
   "cell_type": "code",
   "execution_count": 1,
   "metadata": {},
   "outputs": [
    {
     "name": "stdout",
     "output_type": "stream",
     "text": [
      "importing Jupyter notebook from las.ipynb\n",
      "automodinit 0.16\n"
     ]
    }
   ],
   "source": [
    "import import_ipynb\n",
    "#importer les different classe à utiliser\n",
    "from las import *\n",
    "###################\n",
    "import sys\n",
    "import numpy as np\n",
    "from io import StringIO\n",
    "from sympy import *\n",
    "from PyQt5 import uic\n",
    "from PyQt5.QtWidgets import (QApplication, QWidget, qApp, QDesktopWidget, \n",
    "    QMessageBox, QPushButton, QToolTip, QMainWindow)\n",
    "from PyQt5.QtGui import QIcon, QFont\n",
    "from PyQt5.QtCore import QCoreApplication\n",
    "%load_ext watermark\n",
    "%watermark -p automodinit"
   ]
  },
  {
   "cell_type": "code",
   "execution_count": null,
   "metadata": {},
   "outputs": [],
   "source": [
    "\n",
    "\n",
    "qtCreatorFile = \"testUI.ui\" # Enter file here.\n",
    " \n",
    "Ui_MainWindow, QtBaseClass = uic.loadUiType(qtCreatorFile)\n",
    "\n",
    "class MyApp(QMainWindow, Ui_MainWindow):\n",
    "    def __init__(self):\n",
    "        QMainWindow.__init__(self)\n",
    "        Ui_MainWindow.__init__(self)\n",
    "        self.setupUi(self)\n",
    "        self.btnCalcLAS.clicked.connect(self.calcLASMenu)\n",
    "        \n",
    "    def calcLASMenu(self):\n",
    "        try:\n",
    "            if self.inpGE.isChecked() == true:\n",
    "                self.calcLASGEP()\n",
    "            if self.inpGJ.isChecked() == true:\n",
    "                self.calcLASGJ()\n",
    "            if self.btnGrpLAS.checkedId() == -1:\n",
    "                QMessageBox.warning(self, \"Avertissement utilisateur \",\" Choisissez une méthode.\")\n",
    "        except Exception as e:\n",
    "            raise\n",
    "        else:\n",
    "            pass\n",
    "        finally:\n",
    "            pass\n",
    "            \n",
    "\n",
    "    def calcLASGEP(self):\n",
    "        A = np.matrix(np.loadtxt(StringIO(self.inpTextLA.toPlainText())))\n",
    "        b = np.fromstring(self.inpVecB.text(),sep=' ')\n",
    "        classAns = gaussElim(A,b)\n",
    "        self.outTextLA.append(\"<b> Méthode d'élimination de Gauss</b><br>\")\n",
    "        self.outTextLA.append(\"La matrice A est\\n\" + str(A))\n",
    "        self.outTextLA.append(\"\\nLe vecteur b est \\n\" + str(b.reshape((-1, 1))))\n",
    "        self.outTextLA.append(\"\\nLe vecteur X est\\n\" + str(classAns.x.reshape((-1,1))))\n",
    "\n",
    "    def calcLASGJ(self):\n",
    "        A = np.matrix(np.loadtxt(StringIO(self.inpTextLA.toPlainText())))\n",
    "        b = np.fromstring(self.inpVecB.text(),sep=' ')\n",
    "        classAns =gaussJordan(A,b)\n",
    "        self.outTextLA.append(\"<b>Méthode Gauss Jordan </b><br>\")\n",
    "        self.outTextLA.append(\"La matrice A est\\n\" + str(A))\n",
    "        self.outTextLA.append(\"\\nLe vecteur b est \\n\" + str(b.reshape((-1, 1))))\n",
    "        self.outTextLA.append(\"\\nLe vecteur X est\\n\" + str(classAns.reshape((-1,1))))\n",
    "\n",
    "if __name__ == \"__main__\":\n",
    "    app = QApplication(sys.argv)\n",
    "    window = MyApp()\n",
    "    window.show()\n",
    "    sys.exit(app.exec_())"
   ]
  },
  {
   "cell_type": "markdown",
   "metadata": {},
   "source": [
    "* **<span style=\"color:red\">Conclusion : </span>**\n",
    "\n",
    "> <i><p>Pour terminer, il nous reste à parler d’une chose importante par rapport à la précision de la\n",
    "méthode Gauss-Jordan. Comme vous l’avez constaté, à chaque étape on divise l’équation par un nombre qu’on a\n",
    "appelé pivot. \n",
    "Et comme vous le savez une division est toujours dangereuse si on l’a fait avec un\n",
    "nombre très petit. Ça peut fausser complétement le résultat. \n",
    "Par conséquent, il faut toujours choisir\n",
    "le plus grand coefficient de la ligne comme pivot. Pour cela on peut librement changer l’ordre des\n",
    "équations de façon à placer dans la case pivot le plus grand nombre en valeur absolue.\n",
    "Autre chose, la méthode Gauss-Jordan peut aussi être utilisée pour trouver l’inverse d’une matrice.\n",
    "Pour cela, il suffit de poser la matrice en question côte à côte avec la matrice identité (A|I) et faire les\n",
    "transformations nécessaires pour arriver à (I|A-1).\n",
    "La méthode est stable mais assez sensible aux erreurs de troncatures. Elle est aussi sensiblement plus\n",
    "lente que d’autres méthodes comme la LU décomposition. </i></p>"
   ]
  },
  {
   "cell_type": "code",
   "execution_count": null,
   "metadata": {},
   "outputs": [],
   "source": []
  }
 ],
 "metadata": {
  "kernelspec": {
   "display_name": "Python 3",
   "language": "python",
   "name": "python3"
  },
  "language_info": {
   "codemirror_mode": {
    "name": "ipython",
    "version": 3
   },
   "file_extension": ".py",
   "mimetype": "text/x-python",
   "name": "python",
   "nbconvert_exporter": "python",
   "pygments_lexer": "ipython3",
   "version": "3.7.1"
  }
 },
 "nbformat": 4,
 "nbformat_minor": 2
}
